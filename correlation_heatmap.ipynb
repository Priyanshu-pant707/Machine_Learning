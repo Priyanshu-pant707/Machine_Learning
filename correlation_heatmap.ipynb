{
 "cells": [
  {
   "cell_type": "markdown",
   "id": "06220a2d",
   "metadata": {},
   "source": [
    "# UNDERSTANDING `CORRELATION` MATRIX"
   ]
  },
  {
   "cell_type": "markdown",
   "id": "c2b8eb2e",
   "metadata": {},
   "source": [
    "## Topic Involved\n"
   ]
  },
  {
   "cell_type": "markdown",
   "id": "71e78f86",
   "metadata": {},
   "source": [
    "1. Loading a dataset\n",
    "- using `pandas` to read datasets (csv,excel,etc) into a dataframe"
   ]
  },
  {
   "cell_type": "markdown",
   "id": "a4090ebd",
   "metadata": {},
   "source": [
    "2. Numerical Columns\n",
    "- columns containing numeric data that can be used for correlation analysis."
   ]
  },
  {
   "cell_type": "markdown",
   "id": "0358b3fe",
   "metadata": {},
   "source": [
    "3. Correlation Matrix\n",
    " - Measures the linear relationship between two numerical variables\n",
    " - Values ranges from -1 to 1\n",
    "    - 1 : perfect positive correlation\n",
    "    - -1 : perfect negative correlation\n",
    "    - 0 : No Correlation\n",
    "\n",
    "### Common Methods : \n",
    " - `pearson` : (default ,linear correlation)\n",
    " - `spearman` : (rank correlation,non-linear)\n",
    " - `kendall` : (non-parametric,rank-based)\n",
    "\n",
    "\n",
    " #### use case of correlation matrix:\n",
    " 1. ML : feature selection\n",
    "    - if any two features have high correlation , then we can drop one of them, because are  giving the same value.\n",
    " 2. Data analysis : pattern \n",
    "    - which variables are closely related two each other.\n",
    "    "
   ]
  },
  {
   "cell_type": "markdown",
   "id": "7fd4ea09",
   "metadata": {},
   "source": [
    "4. Heatmap visualization : \n",
    "- using `seaborn` or `matplotlib` to visually represent correlations.\n",
    "- strong correlations (positive or negative) can help in feature selection or detecting multicollinearity."
   ]
  },
  {
   "cell_type": "markdown",
   "id": "15cfdd99",
   "metadata": {},
   "source": [
    "5. Identifying highly correlated features :\n",
    "- features with correlation above a threshold (0.7 or -0.7) are considered highly correlated."
   ]
  },
  {
   "cell_type": "markdown",
   "id": "a67e47b8",
   "metadata": {},
   "source": [
    "# code part :"
   ]
  },
  {
   "cell_type": "code",
   "execution_count": 4,
   "id": "17c35f25",
   "metadata": {},
   "outputs": [],
   "source": [
    "import pandas as pd\n",
    "import seaborn as sns\n",
    "import matplotlib.pyplot as plt"
   ]
  },
  {
   "cell_type": "code",
   "execution_count": 5,
   "id": "186346f7",
   "metadata": {},
   "outputs": [],
   "source": [
    "data = {\n",
    "    'Age': [25, 30, 35, 40, 45, 50, 55, 60],\n",
    "    'Salary': [30000, 35000, 40000, 45000, 50000, 55000, 60000, 65000],\n",
    "    'Experience': [1, 3, 5, 7, 9, 11, 13, 15],\n",
    "    'Hours_Worked': [40, 42, 41, 43, 45, 44, 46, 47]\n",
    "}"
   ]
  },
  {
   "cell_type": "code",
   "execution_count": 6,
   "id": "b17c5d5a",
   "metadata": {},
   "outputs": [],
   "source": [
    "df = pd.DataFrame(data)"
   ]
  },
  {
   "cell_type": "code",
   "execution_count": 7,
   "id": "e6e77fca",
   "metadata": {},
   "outputs": [
    {
     "data": {
      "text/html": [
       "<div>\n",
       "<style scoped>\n",
       "    .dataframe tbody tr th:only-of-type {\n",
       "        vertical-align: middle;\n",
       "    }\n",
       "\n",
       "    .dataframe tbody tr th {\n",
       "        vertical-align: top;\n",
       "    }\n",
       "\n",
       "    .dataframe thead th {\n",
       "        text-align: right;\n",
       "    }\n",
       "</style>\n",
       "<table border=\"1\" class=\"dataframe\">\n",
       "  <thead>\n",
       "    <tr style=\"text-align: right;\">\n",
       "      <th></th>\n",
       "      <th>Age</th>\n",
       "      <th>Salary</th>\n",
       "      <th>Experience</th>\n",
       "      <th>Hours_Worked</th>\n",
       "    </tr>\n",
       "  </thead>\n",
       "  <tbody>\n",
       "    <tr>\n",
       "      <th>0</th>\n",
       "      <td>25</td>\n",
       "      <td>30000</td>\n",
       "      <td>1</td>\n",
       "      <td>40</td>\n",
       "    </tr>\n",
       "    <tr>\n",
       "      <th>1</th>\n",
       "      <td>30</td>\n",
       "      <td>35000</td>\n",
       "      <td>3</td>\n",
       "      <td>42</td>\n",
       "    </tr>\n",
       "    <tr>\n",
       "      <th>2</th>\n",
       "      <td>35</td>\n",
       "      <td>40000</td>\n",
       "      <td>5</td>\n",
       "      <td>41</td>\n",
       "    </tr>\n",
       "    <tr>\n",
       "      <th>3</th>\n",
       "      <td>40</td>\n",
       "      <td>45000</td>\n",
       "      <td>7</td>\n",
       "      <td>43</td>\n",
       "    </tr>\n",
       "    <tr>\n",
       "      <th>4</th>\n",
       "      <td>45</td>\n",
       "      <td>50000</td>\n",
       "      <td>9</td>\n",
       "      <td>45</td>\n",
       "    </tr>\n",
       "  </tbody>\n",
       "</table>\n",
       "</div>"
      ],
      "text/plain": [
       "   Age  Salary  Experience  Hours_Worked\n",
       "0   25   30000           1            40\n",
       "1   30   35000           3            42\n",
       "2   35   40000           5            41\n",
       "3   40   45000           7            43\n",
       "4   45   50000           9            45"
      ]
     },
     "execution_count": 7,
     "metadata": {},
     "output_type": "execute_result"
    }
   ],
   "source": [
    "df.head()"
   ]
  },
  {
   "cell_type": "code",
   "execution_count": 8,
   "id": "b4d9ad8a",
   "metadata": {},
   "outputs": [
    {
     "data": {
      "text/html": [
       "<div>\n",
       "<style scoped>\n",
       "    .dataframe tbody tr th:only-of-type {\n",
       "        vertical-align: middle;\n",
       "    }\n",
       "\n",
       "    .dataframe tbody tr th {\n",
       "        vertical-align: top;\n",
       "    }\n",
       "\n",
       "    .dataframe thead th {\n",
       "        text-align: right;\n",
       "    }\n",
       "</style>\n",
       "<table border=\"1\" class=\"dataframe\">\n",
       "  <thead>\n",
       "    <tr style=\"text-align: right;\">\n",
       "      <th></th>\n",
       "      <th>Age</th>\n",
       "      <th>Salary</th>\n",
       "      <th>Experience</th>\n",
       "      <th>Hours_Worked</th>\n",
       "    </tr>\n",
       "  </thead>\n",
       "  <tbody>\n",
       "    <tr>\n",
       "      <th>count</th>\n",
       "      <td>8.000000</td>\n",
       "      <td>8.000000</td>\n",
       "      <td>8.000000</td>\n",
       "      <td>8.00000</td>\n",
       "    </tr>\n",
       "    <tr>\n",
       "      <th>mean</th>\n",
       "      <td>42.500000</td>\n",
       "      <td>47500.000000</td>\n",
       "      <td>8.000000</td>\n",
       "      <td>43.50000</td>\n",
       "    </tr>\n",
       "    <tr>\n",
       "      <th>std</th>\n",
       "      <td>12.247449</td>\n",
       "      <td>12247.448714</td>\n",
       "      <td>4.898979</td>\n",
       "      <td>2.44949</td>\n",
       "    </tr>\n",
       "    <tr>\n",
       "      <th>min</th>\n",
       "      <td>25.000000</td>\n",
       "      <td>30000.000000</td>\n",
       "      <td>1.000000</td>\n",
       "      <td>40.00000</td>\n",
       "    </tr>\n",
       "    <tr>\n",
       "      <th>25%</th>\n",
       "      <td>33.750000</td>\n",
       "      <td>38750.000000</td>\n",
       "      <td>4.500000</td>\n",
       "      <td>41.75000</td>\n",
       "    </tr>\n",
       "    <tr>\n",
       "      <th>50%</th>\n",
       "      <td>42.500000</td>\n",
       "      <td>47500.000000</td>\n",
       "      <td>8.000000</td>\n",
       "      <td>43.50000</td>\n",
       "    </tr>\n",
       "    <tr>\n",
       "      <th>75%</th>\n",
       "      <td>51.250000</td>\n",
       "      <td>56250.000000</td>\n",
       "      <td>11.500000</td>\n",
       "      <td>45.25000</td>\n",
       "    </tr>\n",
       "    <tr>\n",
       "      <th>max</th>\n",
       "      <td>60.000000</td>\n",
       "      <td>65000.000000</td>\n",
       "      <td>15.000000</td>\n",
       "      <td>47.00000</td>\n",
       "    </tr>\n",
       "  </tbody>\n",
       "</table>\n",
       "</div>"
      ],
      "text/plain": [
       "             Age        Salary  Experience  Hours_Worked\n",
       "count   8.000000      8.000000    8.000000       8.00000\n",
       "mean   42.500000  47500.000000    8.000000      43.50000\n",
       "std    12.247449  12247.448714    4.898979       2.44949\n",
       "min    25.000000  30000.000000    1.000000      40.00000\n",
       "25%    33.750000  38750.000000    4.500000      41.75000\n",
       "50%    42.500000  47500.000000    8.000000      43.50000\n",
       "75%    51.250000  56250.000000   11.500000      45.25000\n",
       "max    60.000000  65000.000000   15.000000      47.00000"
      ]
     },
     "execution_count": 8,
     "metadata": {},
     "output_type": "execute_result"
    }
   ],
   "source": [
    "df.describe()"
   ]
  },
  {
   "cell_type": "code",
   "execution_count": 10,
   "id": "05e7f751",
   "metadata": {},
   "outputs": [
    {
     "name": "stdout",
     "output_type": "stream",
     "text": [
      "<class 'pandas.core.frame.DataFrame'>\n",
      "RangeIndex: 8 entries, 0 to 7\n",
      "Data columns (total 4 columns):\n",
      " #   Column        Non-Null Count  Dtype\n",
      "---  ------        --------------  -----\n",
      " 0   Age           8 non-null      int64\n",
      " 1   Salary        8 non-null      int64\n",
      " 2   Experience    8 non-null      int64\n",
      " 3   Hours_Worked  8 non-null      int64\n",
      "dtypes: int64(4)\n",
      "memory usage: 388.0 bytes\n"
     ]
    }
   ],
   "source": [
    "df.info()"
   ]
  },
  {
   "cell_type": "code",
   "execution_count": 11,
   "id": "d82bbe4a",
   "metadata": {},
   "outputs": [],
   "source": [
    "numerical_cols=df.select_dtypes(include=['int64','float64'])"
   ]
  },
  {
   "cell_type": "code",
   "execution_count": 12,
   "id": "e22c1d91",
   "metadata": {},
   "outputs": [],
   "source": [
    "corr_matrix= numerical_cols.corr()\n"
   ]
  },
  {
   "cell_type": "code",
   "execution_count": 13,
   "id": "312a4c47",
   "metadata": {},
   "outputs": [
    {
     "data": {
      "text/html": [
       "<div>\n",
       "<style scoped>\n",
       "    .dataframe tbody tr th:only-of-type {\n",
       "        vertical-align: middle;\n",
       "    }\n",
       "\n",
       "    .dataframe tbody tr th {\n",
       "        vertical-align: top;\n",
       "    }\n",
       "\n",
       "    .dataframe thead th {\n",
       "        text-align: right;\n",
       "    }\n",
       "</style>\n",
       "<table border=\"1\" class=\"dataframe\">\n",
       "  <thead>\n",
       "    <tr style=\"text-align: right;\">\n",
       "      <th></th>\n",
       "      <th>Age</th>\n",
       "      <th>Salary</th>\n",
       "      <th>Experience</th>\n",
       "      <th>Hours_Worked</th>\n",
       "    </tr>\n",
       "  </thead>\n",
       "  <tbody>\n",
       "    <tr>\n",
       "      <th>Age</th>\n",
       "      <td>1.000000</td>\n",
       "      <td>1.000000</td>\n",
       "      <td>1.000000</td>\n",
       "      <td>0.952381</td>\n",
       "    </tr>\n",
       "    <tr>\n",
       "      <th>Salary</th>\n",
       "      <td>1.000000</td>\n",
       "      <td>1.000000</td>\n",
       "      <td>1.000000</td>\n",
       "      <td>0.952381</td>\n",
       "    </tr>\n",
       "    <tr>\n",
       "      <th>Experience</th>\n",
       "      <td>1.000000</td>\n",
       "      <td>1.000000</td>\n",
       "      <td>1.000000</td>\n",
       "      <td>0.952381</td>\n",
       "    </tr>\n",
       "    <tr>\n",
       "      <th>Hours_Worked</th>\n",
       "      <td>0.952381</td>\n",
       "      <td>0.952381</td>\n",
       "      <td>0.952381</td>\n",
       "      <td>1.000000</td>\n",
       "    </tr>\n",
       "  </tbody>\n",
       "</table>\n",
       "</div>"
      ],
      "text/plain": [
       "                   Age    Salary  Experience  Hours_Worked\n",
       "Age           1.000000  1.000000    1.000000      0.952381\n",
       "Salary        1.000000  1.000000    1.000000      0.952381\n",
       "Experience    1.000000  1.000000    1.000000      0.952381\n",
       "Hours_Worked  0.952381  0.952381    0.952381      1.000000"
      ]
     },
     "execution_count": 13,
     "metadata": {},
     "output_type": "execute_result"
    }
   ],
   "source": [
    "corr_matrix"
   ]
  },
  {
   "cell_type": "code",
   "execution_count": 17,
   "id": "3b18eb25",
   "metadata": {},
   "outputs": [
    {
     "data": {
      "image/png": "[encoded data removed]",
      "text/plain": [
       "<Figure size 800x600 with 2 Axes>"
      ]
     },
     "metadata": {},
     "output_type": "display_data"
    }
   ],
   "source": [
    "plt.figure(figsize=(8, 6))\n",
    "sns.heatmap(corr_matrix, annot=True, cmap='coolwarm', fmt=\".2f\")\n",
    "plt.title(\"Correlation Heatmap\")\n",
    "plt.show()"
   ]
  },
  {
   "cell_type": "code",
   "execution_count": 18,
   "id": "c7009339",
   "metadata": {},
   "outputs": [
    {
     "name": "stdout",
     "output_type": "stream",
     "text": [
      "\n",
      "Highly Correlated Features (>|0.7|):\n",
      "       Feature 1     Feature 2  Correlation\n",
      "0           Age  Hours_Worked     0.952381\n",
      "1        Salary  Hours_Worked     0.952381\n",
      "2    Experience  Hours_Worked     0.952381\n",
      "3  Hours_Worked           Age     0.952381\n",
      "4  Hours_Worked        Salary     0.952381\n",
      "5  Hours_Worked    Experience     0.952381\n"
     ]
    }
   ],
   "source": [
    "threshold = 0.7\n",
    "high_corr = corr_matrix[(corr_matrix > threshold) & (corr_matrix != 1.0)].stack().reset_index()\n",
    "high_corr.columns = ['Feature 1', 'Feature 2', 'Correlation']\n",
    "print(\"\\nHighly Correlated Features (>|0.7|):\\n\", high_corr)"
   ]
  },
  {
   "cell_type": "code",
   "execution_count": null,
   "id": "d0332d2a",
   "metadata": {},
   "outputs": [],
   "source": []
  }
 ],
 "metadata": {
  "kernelspec": {
   "display_name": "venv",
   "language": "python",
   "name": "python3"
  },
  "language_info": {
   "codemirror_mode": {
    "name": "ipython",
    "version": 3
   },
   "file_extension": ".py",
   "mimetype": "text/x-python",
   "name": "python",
   "nbconvert_exporter": "python",
   "pygments_lexer": "ipython3",
   "version": "3.13.3"
  }
 },
 "nbformat": 4,
 "nbformat_minor": 5
}
