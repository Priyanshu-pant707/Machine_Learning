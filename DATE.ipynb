{
 "cells": [
  {
   "cell_type": "markdown",
   "id": "f094c297",
   "metadata": {},
   "source": [
    "## Given a dataset with a date column, extract year, month, day of week, weekend flag, and days difference between two dates."
   ]
  },
  {
   "cell_type": "code",
   "execution_count": 1,
   "id": "67f73f73",
   "metadata": {},
   "outputs": [],
   "source": [
    "import pandas as pd"
   ]
  },
  {
   "cell_type": "code",
   "execution_count": 2,
   "id": "3cde67c2",
   "metadata": {},
   "outputs": [],
   "source": [
    "data = {\n",
    "    'start_date': ['2025-09-01', '2025-09-05', '2025-09-07', '2025-09-10'],\n",
    "    'end_date': ['2025-09-03', '2025-09-06', '2025-09-09', '2025-09-12']\n",
    "}"
   ]
  },
  {
   "cell_type": "code",
   "execution_count": 3,
   "id": "698e47f8",
   "metadata": {},
   "outputs": [
    {
     "data": {
      "text/plain": [
       "{'start_date': ['2025-09-01', '2025-09-05', '2025-09-07', '2025-09-10'],\n",
       " 'end_date': ['2025-09-03', '2025-09-06', '2025-09-09', '2025-09-12']}"
      ]
     },
     "execution_count": 3,
     "metadata": {},
     "output_type": "execute_result"
    }
   ],
   "source": [
    "data"
   ]
  },
  {
   "cell_type": "code",
   "execution_count": 4,
   "id": "f49282a5",
   "metadata": {},
   "outputs": [],
   "source": [
    "df=pd.DataFrame(data)"
   ]
  },
  {
   "cell_type": "code",
   "execution_count": 8,
   "id": "c01e340e",
   "metadata": {},
   "outputs": [
    {
     "data": {
      "text/html": [
       "<div>\n",
       "<style scoped>\n",
       "    .dataframe tbody tr th:only-of-type {\n",
       "        vertical-align: middle;\n",
       "    }\n",
       "\n",
       "    .dataframe tbody tr th {\n",
       "        vertical-align: top;\n",
       "    }\n",
       "\n",
       "    .dataframe thead th {\n",
       "        text-align: right;\n",
       "    }\n",
       "</style>\n",
       "<table border=\"1\" class=\"dataframe\">\n",
       "  <thead>\n",
       "    <tr style=\"text-align: right;\">\n",
       "      <th></th>\n",
       "      <th>start_date</th>\n",
       "      <th>end_date</th>\n",
       "    </tr>\n",
       "  </thead>\n",
       "  <tbody>\n",
       "    <tr>\n",
       "      <th>0</th>\n",
       "      <td>2025-09-01</td>\n",
       "      <td>2025-09-03</td>\n",
       "    </tr>\n",
       "    <tr>\n",
       "      <th>1</th>\n",
       "      <td>2025-09-05</td>\n",
       "      <td>2025-09-06</td>\n",
       "    </tr>\n",
       "    <tr>\n",
       "      <th>2</th>\n",
       "      <td>2025-09-07</td>\n",
       "      <td>2025-09-09</td>\n",
       "    </tr>\n",
       "    <tr>\n",
       "      <th>3</th>\n",
       "      <td>2025-09-10</td>\n",
       "      <td>2025-09-12</td>\n",
       "    </tr>\n",
       "  </tbody>\n",
       "</table>\n",
       "</div>"
      ],
      "text/plain": [
       "  start_date   end_date\n",
       "0 2025-09-01 2025-09-03\n",
       "1 2025-09-05 2025-09-06\n",
       "2 2025-09-07 2025-09-09\n",
       "3 2025-09-10 2025-09-12"
      ]
     },
     "execution_count": 8,
     "metadata": {},
     "output_type": "execute_result"
    }
   ],
   "source": [
    "df.head()"
   ]
  },
  {
   "cell_type": "markdown",
   "id": "9370c3fc",
   "metadata": {},
   "source": [
    " # Converting the column into the date and time formate using .to_datetime"
   ]
  },
  {
   "cell_type": "code",
   "execution_count": 6,
   "id": "7be5132f",
   "metadata": {},
   "outputs": [],
   "source": [
    "df['start_date'] = pd.to_datetime(df['start_date'])\n",
    "df['end_date'] = pd.to_datetime(df['end_date'])"
   ]
  },
  {
   "cell_type": "code",
   "execution_count": 7,
   "id": "85f0293f",
   "metadata": {},
   "outputs": [
    {
     "data": {
      "text/html": [
       "<div>\n",
       "<style scoped>\n",
       "    .dataframe tbody tr th:only-of-type {\n",
       "        vertical-align: middle;\n",
       "    }\n",
       "\n",
       "    .dataframe tbody tr th {\n",
       "        vertical-align: top;\n",
       "    }\n",
       "\n",
       "    .dataframe thead th {\n",
       "        text-align: right;\n",
       "    }\n",
       "</style>\n",
       "<table border=\"1\" class=\"dataframe\">\n",
       "  <thead>\n",
       "    <tr style=\"text-align: right;\">\n",
       "      <th></th>\n",
       "      <th>start_date</th>\n",
       "      <th>end_date</th>\n",
       "    </tr>\n",
       "  </thead>\n",
       "  <tbody>\n",
       "    <tr>\n",
       "      <th>0</th>\n",
       "      <td>2025-09-01</td>\n",
       "      <td>2025-09-03</td>\n",
       "    </tr>\n",
       "    <tr>\n",
       "      <th>1</th>\n",
       "      <td>2025-09-05</td>\n",
       "      <td>2025-09-06</td>\n",
       "    </tr>\n",
       "    <tr>\n",
       "      <th>2</th>\n",
       "      <td>2025-09-07</td>\n",
       "      <td>2025-09-09</td>\n",
       "    </tr>\n",
       "    <tr>\n",
       "      <th>3</th>\n",
       "      <td>2025-09-10</td>\n",
       "      <td>2025-09-12</td>\n",
       "    </tr>\n",
       "  </tbody>\n",
       "</table>\n",
       "</div>"
      ],
      "text/plain": [
       "  start_date   end_date\n",
       "0 2025-09-01 2025-09-03\n",
       "1 2025-09-05 2025-09-06\n",
       "2 2025-09-07 2025-09-09\n",
       "3 2025-09-10 2025-09-12"
      ]
     },
     "execution_count": 7,
     "metadata": {},
     "output_type": "execute_result"
    }
   ],
   "source": [
    "df"
   ]
  },
  {
   "cell_type": "markdown",
   "id": "db1e3dba",
   "metadata": {},
   "source": [
    "# extract date features"
   ]
  },
  {
   "cell_type": "code",
   "execution_count": 13,
   "id": "05ace0b5",
   "metadata": {},
   "outputs": [],
   "source": [
    "df['year']=df['start_date'].dt.year\n",
    "df['month']=df['start_date'].dt.month\n",
    "df['day']=df['start_date'].dt.day\n",
    "df['day_of_week']=df['start_date'].dt.day_name()\n",
    "df['is_weekend']=df['start_date'].dt.weekday>=5\n",
    "\n",
    "\n"
   ]
  },
  {
   "cell_type": "code",
   "execution_count": 14,
   "id": "cb5b6549",
   "metadata": {},
   "outputs": [
    {
     "data": {
      "text/html": [
       "<div>\n",
       "<style scoped>\n",
       "    .dataframe tbody tr th:only-of-type {\n",
       "        vertical-align: middle;\n",
       "    }\n",
       "\n",
       "    .dataframe tbody tr th {\n",
       "        vertical-align: top;\n",
       "    }\n",
       "\n",
       "    .dataframe thead th {\n",
       "        text-align: right;\n",
       "    }\n",
       "</style>\n",
       "<table border=\"1\" class=\"dataframe\">\n",
       "  <thead>\n",
       "    <tr style=\"text-align: right;\">\n",
       "      <th></th>\n",
       "      <th>start_date</th>\n",
       "      <th>end_date</th>\n",
       "      <th>year</th>\n",
       "      <th>month</th>\n",
       "      <th>day</th>\n",
       "      <th>day_of_week</th>\n",
       "      <th>is_weekend</th>\n",
       "    </tr>\n",
       "  </thead>\n",
       "  <tbody>\n",
       "    <tr>\n",
       "      <th>0</th>\n",
       "      <td>2025-09-01</td>\n",
       "      <td>2025-09-03</td>\n",
       "      <td>2025</td>\n",
       "      <td>9</td>\n",
       "      <td>1</td>\n",
       "      <td>Monday</td>\n",
       "      <td>False</td>\n",
       "    </tr>\n",
       "    <tr>\n",
       "      <th>1</th>\n",
       "      <td>2025-09-05</td>\n",
       "      <td>2025-09-06</td>\n",
       "      <td>2025</td>\n",
       "      <td>9</td>\n",
       "      <td>5</td>\n",
       "      <td>Friday</td>\n",
       "      <td>False</td>\n",
       "    </tr>\n",
       "    <tr>\n",
       "      <th>2</th>\n",
       "      <td>2025-09-07</td>\n",
       "      <td>2025-09-09</td>\n",
       "      <td>2025</td>\n",
       "      <td>9</td>\n",
       "      <td>7</td>\n",
       "      <td>Sunday</td>\n",
       "      <td>True</td>\n",
       "    </tr>\n",
       "    <tr>\n",
       "      <th>3</th>\n",
       "      <td>2025-09-10</td>\n",
       "      <td>2025-09-12</td>\n",
       "      <td>2025</td>\n",
       "      <td>9</td>\n",
       "      <td>10</td>\n",
       "      <td>Wednesday</td>\n",
       "      <td>False</td>\n",
       "    </tr>\n",
       "  </tbody>\n",
       "</table>\n",
       "</div>"
      ],
      "text/plain": [
       "  start_date   end_date  year  month  day day_of_week  is_weekend\n",
       "0 2025-09-01 2025-09-03  2025      9    1      Monday       False\n",
       "1 2025-09-05 2025-09-06  2025      9    5      Friday       False\n",
       "2 2025-09-07 2025-09-09  2025      9    7      Sunday        True\n",
       "3 2025-09-10 2025-09-12  2025      9   10   Wednesday       False"
      ]
     },
     "execution_count": 14,
     "metadata": {},
     "output_type": "execute_result"
    }
   ],
   "source": [
    "df"
   ]
  },
  {
   "cell_type": "markdown",
   "id": "baa371ab",
   "metadata": {},
   "source": [
    "# difference column"
   ]
  },
  {
   "cell_type": "code",
   "execution_count": 16,
   "id": "991bd99e",
   "metadata": {},
   "outputs": [],
   "source": [
    "df['days_difference']=(df['end_date']-df['start_date']).dt.days"
   ]
  },
  {
   "cell_type": "code",
   "execution_count": 18,
   "id": "ebdd5b92",
   "metadata": {},
   "outputs": [
    {
     "data": {
      "text/plain": [
       "0    2\n",
       "1    1\n",
       "2    2\n",
       "3    2\n",
       "Name: days_difference, dtype: int64"
      ]
     },
     "execution_count": 18,
     "metadata": {},
     "output_type": "execute_result"
    }
   ],
   "source": [
    "df['days_difference']"
   ]
  },
  {
   "cell_type": "code",
   "execution_count": 20,
   "id": "3125f5f4",
   "metadata": {},
   "outputs": [
    {
     "data": {
      "text/html": [
       "<div>\n",
       "<style scoped>\n",
       "    .dataframe tbody tr th:only-of-type {\n",
       "        vertical-align: middle;\n",
       "    }\n",
       "\n",
       "    .dataframe tbody tr th {\n",
       "        vertical-align: top;\n",
       "    }\n",
       "\n",
       "    .dataframe thead th {\n",
       "        text-align: right;\n",
       "    }\n",
       "</style>\n",
       "<table border=\"1\" class=\"dataframe\">\n",
       "  <thead>\n",
       "    <tr style=\"text-align: right;\">\n",
       "      <th></th>\n",
       "      <th>start_date</th>\n",
       "      <th>end_date</th>\n",
       "      <th>year</th>\n",
       "      <th>month</th>\n",
       "      <th>day</th>\n",
       "      <th>day_of_week</th>\n",
       "      <th>is_weekend</th>\n",
       "      <th>days_difference</th>\n",
       "    </tr>\n",
       "  </thead>\n",
       "  <tbody>\n",
       "    <tr>\n",
       "      <th>0</th>\n",
       "      <td>2025-09-01</td>\n",
       "      <td>2025-09-03</td>\n",
       "      <td>2025</td>\n",
       "      <td>9</td>\n",
       "      <td>1</td>\n",
       "      <td>Monday</td>\n",
       "      <td>False</td>\n",
       "      <td>2</td>\n",
       "    </tr>\n",
       "    <tr>\n",
       "      <th>1</th>\n",
       "      <td>2025-09-05</td>\n",
       "      <td>2025-09-06</td>\n",
       "      <td>2025</td>\n",
       "      <td>9</td>\n",
       "      <td>5</td>\n",
       "      <td>Friday</td>\n",
       "      <td>False</td>\n",
       "      <td>1</td>\n",
       "    </tr>\n",
       "    <tr>\n",
       "      <th>2</th>\n",
       "      <td>2025-09-07</td>\n",
       "      <td>2025-09-09</td>\n",
       "      <td>2025</td>\n",
       "      <td>9</td>\n",
       "      <td>7</td>\n",
       "      <td>Sunday</td>\n",
       "      <td>True</td>\n",
       "      <td>2</td>\n",
       "    </tr>\n",
       "    <tr>\n",
       "      <th>3</th>\n",
       "      <td>2025-09-10</td>\n",
       "      <td>2025-09-12</td>\n",
       "      <td>2025</td>\n",
       "      <td>9</td>\n",
       "      <td>10</td>\n",
       "      <td>Wednesday</td>\n",
       "      <td>False</td>\n",
       "      <td>2</td>\n",
       "    </tr>\n",
       "  </tbody>\n",
       "</table>\n",
       "</div>"
      ],
      "text/plain": [
       "  start_date   end_date  year  month  day day_of_week  is_weekend  \\\n",
       "0 2025-09-01 2025-09-03  2025      9    1      Monday       False   \n",
       "1 2025-09-05 2025-09-06  2025      9    5      Friday       False   \n",
       "2 2025-09-07 2025-09-09  2025      9    7      Sunday        True   \n",
       "3 2025-09-10 2025-09-12  2025      9   10   Wednesday       False   \n",
       "\n",
       "   days_difference  \n",
       "0                2  \n",
       "1                1  \n",
       "2                2  \n",
       "3                2  "
      ]
     },
     "execution_count": 20,
     "metadata": {},
     "output_type": "execute_result"
    }
   ],
   "source": [
    "df.head()"
   ]
  }
 ],
 "metadata": {
  "kernelspec": {
   "display_name": "venv",
   "language": "python",
   "name": "python3"
  },
  "language_info": {
   "codemirror_mode": {
    "name": "ipython",
    "version": 3
   },
   "file_extension": ".py",
   "mimetype": "text/x-python",
   "name": "python",
   "nbconvert_exporter": "python",
   "pygments_lexer": "ipython3",
   "version": "3.13.3"
  }
 },
 "nbformat": 4,
 "nbformat_minor": 5
}
